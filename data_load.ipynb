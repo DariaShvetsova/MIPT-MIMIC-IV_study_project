{
 "cells": [
  {
   "cell_type": "code",
   "execution_count": 1,
   "id": "dcf9bd5b-989e-4d82-956e-7fa148cd0e3f",
   "metadata": {},
   "outputs": [],
   "source": [
    "import pandas as pd\n",
    "import sqlalchemy"
   ]
  },
  {
   "cell_type": "code",
   "execution_count": 2,
   "id": "3630242e-5322-4408-a10e-f55d692af077",
   "metadata": {},
   "outputs": [],
   "source": [
    "# Настройка параметров подключения к вашей базе данных\n",
    "connection_params = {\n",
    "    'dbname': 'mimic',\n",
    "    'user': 'postgres',\n",
    "    'host': 'localhost',\n",
    "    'port': '5432'\n",
    "}"
   ]
  },
  {
   "cell_type": "code",
   "execution_count": 3,
   "id": "55dc1ef9-b9b7-4201-a3af-6cfb6ba09841",
   "metadata": {},
   "outputs": [],
   "source": [
    "# SQL-запрос\n",
    "query = \"\"\"\n",
    "SELECT \n",
    "  drg.subject_id,\n",
    "  drg.hadm_id,\n",
    "  drg.drg_code,\n",
    "  drg.description,\n",
    "  ferritin.valuenum AS ferritin,\n",
    "  ferrum.valuenum AS ferrum,\n",
    "  haemoglobin.valuenum AS haemoglobin,\n",
    "  platelets.valuenum AS platelets\n",
    "FROM \n",
    "  drgcodes drg\n",
    "LEFT JOIN (\n",
    "  SELECT\n",
    "    ll.subject_id,\n",
    "    CAST(ll.hadm_id AS integer),\n",
    "    ll.itemid,\n",
    "    ll.valuenum,\n",
    "    ll.charttime\n",
    "  FROM labevents ll\n",
    "  INNER JOIN\n",
    "    (SELECT subject_id, hadm_id, itemid, MIN(charttime) AS mindate\n",
    "    FROM labevents\n",
    "    GROUP BY subject_id, hadm_id, itemid) lg\n",
    "    ON ll.subject_id = lg.subject_id\n",
    "    AND ll.hadm_id = lg.hadm_id\n",
    "    AND ll.itemid = lg.itemid\n",
    "    AND ll.charttime = lg.mindate\n",
    "  WHERE\n",
    "    ll.itemid = 50924\n",
    "  ) ferritin ON drg.subject_id = ferritin.subject_id AND drg.hadm_id = ferritin.hadm_id\n",
    "LEFT JOIN (\n",
    "  SELECT\n",
    "    ll.subject_id,\n",
    "    CAST(ll.hadm_id AS integer),\n",
    "    ll.itemid,\n",
    "    ll.valuenum,\n",
    "    ll.charttime\n",
    "  FROM labevents ll\n",
    "  INNER JOIN\n",
    "    (SELECT subject_id, hadm_id, itemid, MIN(charttime) AS mindate\n",
    "    FROM labevents\n",
    "    GROUP BY subject_id, hadm_id, itemid) lg\n",
    "    ON ll.subject_id = lg.subject_id\n",
    "    AND ll.hadm_id = lg.hadm_id\n",
    "    AND ll.itemid = lg.itemid\n",
    "    AND ll.charttime = lg.mindate\n",
    "  WHERE\n",
    "    ll.itemid = 50952\n",
    ") ferrum ON drg.subject_id = ferrum.subject_id AND drg.hadm_id = ferrum.hadm_id\n",
    "LEFT JOIN (\n",
    "  SELECT\n",
    "    ll.subject_id,\n",
    "    CAST(ll.hadm_id AS integer),\n",
    "    ll.itemid,\n",
    "    ll.valuenum,\n",
    "    ll.charttime\n",
    "  FROM labevents ll\n",
    "  INNER JOIN\n",
    "    (SELECT subject_id, hadm_id, itemid, MIN(charttime) AS mindate\n",
    "    FROM labevents\n",
    "    GROUP BY subject_id, hadm_id, itemid) lg\n",
    "    ON ll.subject_id = lg.subject_id\n",
    "    AND ll.hadm_id = lg.hadm_id\n",
    "    AND ll.itemid = lg.itemid\n",
    "    AND ll.charttime = lg.mindate\n",
    "  WHERE\n",
    "    ll.itemid = 50811\n",
    ") haemoglobin ON drg.subject_id = haemoglobin.subject_id AND drg.hadm_id = haemoglobin.hadm_id\n",
    "LEFT JOIN (\n",
    "  SELECT\n",
    "    ll.subject_id,\n",
    "    CAST(ll.hadm_id AS integer),\n",
    "    ll.itemid,\n",
    "    ll.valuenum,\n",
    "    ll.charttime\n",
    "  FROM labevents ll\n",
    "  INNER JOIN\n",
    "    (SELECT subject_id, hadm_id, itemid, MIN(charttime) AS mindate\n",
    "    FROM labevents\n",
    "    GROUP BY subject_id, hadm_id, itemid) lg\n",
    "    ON ll.subject_id = lg.subject_id\n",
    "    AND ll.hadm_id = lg.hadm_id\n",
    "    AND ll.itemid = lg.itemid\n",
    "    AND ll.charttime = lg.mindate\n",
    "  WHERE\n",
    "    ll.itemid = 51265\n",
    ") platelets ON drg.subject_id = platelets.subject_id AND drg.hadm_id = platelets.hadm_id\n",
    "WHERE \n",
    "  drg.drg_code IN (374, 375, 376)\n",
    "ORDER BY \n",
    "  drg.subject_id, drg.hadm_id ;\n",
    "\"\"\""
   ]
  },
  {
   "cell_type": "code",
   "execution_count": 4,
   "id": "bcf1f2fa-56d5-42d3-bfb4-d917e5927486",
   "metadata": {},
   "outputs": [],
   "source": [
    "uri = f\"postgresql://{connection_params['user']}@{connection_params['host']}:{connection_params['port']}/{connection_params['dbname']}\"\n",
    "engine = sqlalchemy.create_engine(uri)"
   ]
  },
  {
   "cell_type": "code",
   "execution_count": null,
   "id": "4ff2c56b-8982-426d-b586-8ea3eed1f0c7",
   "metadata": {},
   "outputs": [],
   "source": [
    "df = pd.read_sql(query, con=engine);"
   ]
  },
  {
   "cell_type": "code",
   "execution_count": null,
   "id": "43e4c1eb-afac-464b-ac45-1b2cfe909e4b",
   "metadata": {},
   "outputs": [],
   "source": [
    "df"
   ]
  },
  {
   "cell_type": "code",
   "execution_count": null,
   "id": "461b1b41-f10b-4538-b8f2-9b9e85d705dc",
   "metadata": {},
   "outputs": [],
   "source": [
    "# Сохранение DataFrame в файл CSV\n",
    "df.to_csv('selected_data_crc.csv', index=False)  # index=False исключает сохранение индекса"
   ]
  },
  {
   "cell_type": "code",
   "execution_count": null,
   "id": "5e3ce09e-75da-49a5-92eb-57d1750ebaa3",
   "metadata": {},
   "outputs": [],
   "source": []
  }
 ],
 "metadata": {
  "kernelspec": {
   "display_name": "Python 3 (ipykernel)",
   "language": "python",
   "name": "python3"
  },
  "language_info": {
   "codemirror_mode": {
    "name": "ipython",
    "version": 3
   },
   "file_extension": ".py",
   "mimetype": "text/x-python",
   "name": "python",
   "nbconvert_exporter": "python",
   "pygments_lexer": "ipython3",
   "version": "3.12.7"
  }
 },
 "nbformat": 4,
 "nbformat_minor": 5
}
